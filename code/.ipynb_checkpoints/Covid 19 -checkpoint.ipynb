{
 "cells": [
  {
   "cell_type": "markdown",
   "id": "7d5d8f44",
   "metadata": {},
   "source": [
    "## Step:1 Dataset Description and Objective\n",
    "\n",
    "**Dataset Description:**\n",
    "\n",
    "The dataset comprises COVID-19 data, including confirmed cases, recoveries, and deaths, from various global regions with a focus on India. It is available in CSV and Excel formats, regularly updated. Each record includes the date, country/region, confirmed cases, recoveries, and deaths.\n",
    "\n",
    "**Objective:**\n",
    "\n",
    "This project aims to analyze COVID-19 trends using Python. Objectives include visualizing impacts, analyzing infection and recovery rates, predicting future cases using Facebook Prophet, and deriving actionable insights for informed decision-making."
   ]
  },
  {
   "cell_type": "markdown",
   "id": "9791c615",
   "metadata": {},
   "source": [
    "## Step:2 Import Necessary libraries"
   ]
  },
  {
   "cell_type": "code",
   "execution_count": null,
   "id": "e4148ae6",
   "metadata": {},
   "outputs": [],
   "source": [
    "import pandas as pd\n",
    "import numpy as np\n",
    "import seaborn as sns\n",
    "import matplotlib.pyplot as plt\n",
    "\n",
    "import plotly.express as px\n",
    "import plotly.graph_objs as go"
   ]
  },
  {
   "cell_type": "markdown",
   "id": "4b0aa6a7",
   "metadata": {},
   "source": [
    "## Step:3 Data Collection and Preprocessing"
   ]
  },
  {
   "cell_type": "markdown",
   "id": "d96712ce",
   "metadata": {},
   "source": [
    "**- Data loading**"
   ]
  },
  {
   "cell_type": "code",
   "execution_count": null,
   "id": "af4f29b9",
   "metadata": {},
   "outputs": [],
   "source": [
    "df = pd.read_csv(r\"E:\\csv\\Intel csv\\covid_19_clean_complete (4).csv\")\n",
    "df.head()"
   ]
  },
  {
   "cell_type": "markdown",
   "id": "1ccbc388",
   "metadata": {},
   "source": [
    "**- Inspect first few rows**\n",
    "* to understand the structure of the data."
   ]
  },
  {
   "cell_type": "code",
   "execution_count": null,
   "id": "7c3393ef",
   "metadata": {},
   "outputs": [],
   "source": [
    "# Display first 5 rows\n",
    "df.head()"
   ]
  },
  {
   "cell_type": "markdown",
   "id": "df137a59",
   "metadata": {},
   "source": [
    "**- Checking column name**"
   ]
  },
  {
   "cell_type": "code",
   "execution_count": null,
   "id": "54d0726a",
   "metadata": {},
   "outputs": [],
   "source": [
    "df.columns"
   ]
  },
  {
   "cell_type": "markdown",
   "id": "5debc5d5",
   "metadata": {},
   "source": [
    "* column names are inconsistent and difficult to manage, therefore I am going to rename them for clarity and ease of use."
   ]
  },
  {
   "cell_type": "markdown",
   "id": "be08e9f6",
   "metadata": {},
   "source": [
    "**- Renaming the columns**\n",
    "* This renaming ensures consistency and clarity in column names, which helps in avoiding confusion during data analysis and interpretation."
   ]
  },
  {
   "cell_type": "code",
   "execution_count": null,
   "id": "fe444fcc",
   "metadata": {},
   "outputs": [],
   "source": [
    "# Renaming the columns\n",
    "df.rename(columns = {\n",
    "    'Province/State': 'state',\n",
    "    'Country/Region': 'country',\n",
    "    'Lat':'lat',\n",
    "    'Long':'long',\n",
    "    'Date': 'date',\n",
    "    'Confirmed':'confirmed',\n",
    "    'Deaths':'deaths',\n",
    "    'Recovered': 'recovered',\n",
    "    'Active': 'active',\n",
    "    'WHO Region':'WHO' \n",
    "}, inplace = True)"
   ]
  },
  {
   "cell_type": "code",
   "execution_count": null,
   "id": "f6ba4140",
   "metadata": {},
   "outputs": [],
   "source": [
    "df.info()"
   ]
  },
  {
   "cell_type": "markdown",
   "id": "6e6300f4",
   "metadata": {},
   "source": [
    "From the provided DataFrame, we can deduce the following information:\n",
    "\n",
    "`Geographical Data:`\n",
    "* The dataset contains information about COVID-19 cases across different geographical locations, including latitude (Lat) and longitude (Long) coordinates.\n",
    "* Each entry corresponds to a specific province/state (Province/State) and country/region (Country/Region). \n",
    "\n",
    "`Temporal Data:` The dataset includes data recorded over time, with the Date column indicating the date of observation.   \n",
    "\n",
    "`COVID-19 Metrics:` Key metrics related to the COVID-19 pandemic are recorded, including:     \n",
    "* Confirmed: Total confirmed COVID-19 cases.\n",
    "* Deaths: Total deaths attributed to COVID-19.\n",
    "* Recovered: Total number of individuals who have recovered from COVID-19.\n",
    "* Active: Total active cases (confirmed cases minus deaths and recoveries). \n",
    "\n",
    "`Data Types:` The data types of the columns include:\n",
    "* Float64 for latitude and longitude coordinates (Lat and Long).\n",
    "* Int64 for numerical data such as confirmed cases, deaths, recoveries, and active cases.\n",
    "* Object for categorical data such as province/state, country/region, date, and WHO region.\n",
    "\n",
    "`Missing Values:` There are missing values in the Province/State column, indicating that not all entries have province/state information.\n",
    "\n",
    "`WHO Region:` The WHO Region column categorizes countries/regions into World Health Organization (WHO) regions, providing additional contextual information for analysis.\n",
    "\n",
    "Overall, this DataFrame provides a comprehensive snapshot of COVID-19 cases, deaths, and recoveries across different geographical locations over time, enabling analysis and visualization of the pandemic's impact."
   ]
  },
  {
   "cell_type": "markdown",
   "id": "df2c439a",
   "metadata": {},
   "source": [
    "**- Checking for Duplicates:**\n",
    "* Identify and remove duplicate rows in the dataset to ensure data integrity."
   ]
  },
  {
   "cell_type": "code",
   "execution_count": null,
   "id": "040a74cf",
   "metadata": {},
   "outputs": [],
   "source": [
    "# Checking Duplicates Values\n",
    "df.duplicated().sum()"
   ]
  },
  {
   "cell_type": "markdown",
   "id": "c5b1c248",
   "metadata": {},
   "source": [
    "* Sum is 0, meaning there are no duplicate rows in the DataFrame."
   ]
  },
  {
   "cell_type": "markdown",
   "id": "4f02fa0e",
   "metadata": {},
   "source": [
    "**- Summary Statisitc**"
   ]
  },
  {
   "cell_type": "code",
   "execution_count": null,
   "id": "041aad3a",
   "metadata": {},
   "outputs": [],
   "source": [
    "df.describe()"
   ]
  },
  {
   "cell_type": "markdown",
   "id": "582c3ee3",
   "metadata": {},
   "source": [
    "Overall, the describe method output offers valuable insights into the distribution, variability, and magnitude of COVID-19 metrics across different geographic locations and time periods. These insights can inform further analysis and decision-making related to the pandemic response and mitigation efforts."
   ]
  },
  {
   "cell_type": "markdown",
   "id": "83a05126",
   "metadata": {},
   "source": [
    "**- Total no of active cases**"
   ]
  },
  {
   "cell_type": "code",
   "execution_count": null,
   "id": "831ef88e",
   "metadata": {},
   "outputs": [],
   "source": [
    "df['active'].sum()"
   ]
  },
  {
   "cell_type": "markdown",
   "id": "43931afe",
   "metadata": {},
   "source": [
    "**- Countrywise sum of confirmed, death, recovered and active cases**"
   ]
  },
  {
   "cell_type": "code",
   "execution_count": null,
   "id": "3ea4e95a",
   "metadata": {},
   "outputs": [],
   "source": [
    "top=df[df[\"date\"]==\"2020-07-27\"]\n",
    "world=top.groupby(\"country\").sum()[[\"confirmed\",\"deaths\",\"recovered\",\"active\"]].reset_index()\n",
    "world"
   ]
  },
  {
   "cell_type": "markdown",
   "id": "cca5ee2f",
   "metadata": {},
   "source": [
    "## Step 4: Data Visualization"
   ]
  },
  {
   "cell_type": "markdown",
   "id": "895e4bef",
   "metadata": {},
   "source": [
    "**4.1 Country-wise active cases**"
   ]
  },
  {
   "cell_type": "code",
   "execution_count": null,
   "id": "29402ac6",
   "metadata": {
    "scrolled": true
   },
   "outputs": [],
   "source": [
    "# px.choropleth: This function from Plotly Express is used to create a choropleth map.\n",
    "\n",
    "fig=px.choropleth(world,locations='country',\n",
    "                  locationmode='country names',color='active',\n",
    "                  hover_name='country', range_color=[1,15000],\n",
    "                  color_continuous_scale=\"peach\",title='Country-wise active cases')\n",
    "fig.show()"
   ]
  },
  {
   "cell_type": "markdown",
   "id": "0f430d13",
   "metadata": {},
   "source": [
    "* By looking at the above choropleth plot, we can get a general idea of which country has the most active cases and which has the least."
   ]
  },
  {
   "cell_type": "markdown",
   "id": "37074310",
   "metadata": {},
   "source": [
    "**4.2 Country-wise death cases**"
   ]
  },
  {
   "cell_type": "code",
   "execution_count": null,
   "id": "c393af8d",
   "metadata": {},
   "outputs": [],
   "source": [
    "figure = px.choropleth(world,locations=\"country\",\n",
    "                       locationmode = \"country names\", color=\"deaths\",\n",
    "                       hover_name=\"country\",range_color=[1,10000],\n",
    "                       color_continuous_scale=\"blues\",\n",
    "                       title=\"Country-wise death cases\")\n",
    "figure.show()"
   ]
  },
  {
   "cell_type": "markdown",
   "id": "960b214f",
   "metadata": {},
   "source": [
    "* By looking at the above choropleth plot, we can get a general idea of which country has the most death cases and which has the least."
   ]
  },
  {
   "cell_type": "markdown",
   "id": "511b37d7",
   "metadata": {},
   "source": [
    "**4.3 Country-wise recovered cases**"
   ]
  },
  {
   "cell_type": "code",
   "execution_count": null,
   "id": "7998a81c",
   "metadata": {},
   "outputs": [],
   "source": [
    "figure = px.choropleth(world,locations=\"country\",\n",
    "                       locationmode = \"country names\", color=\"recovered\",\n",
    "                       hover_name=\"country\",range_color=[1,10000],\n",
    "                       color_continuous_scale=\"blues\",\n",
    "                       title=\"Country-wise recovered cases\")\n",
    "figure.show()"
   ]
  },
  {
   "cell_type": "markdown",
   "id": "69a14cc6",
   "metadata": {},
   "source": [
    "* By looking at the above choropleth plot, we can get a general idea of which country has the most recovered cases and which has the least."
   ]
  },
  {
   "cell_type": "markdown",
   "id": "eeeea2a1",
   "metadata": {},
   "source": [
    "## Step 5: Analyzing Trends"
   ]
  },
  {
   "cell_type": "markdown",
   "id": "afd70d63",
   "metadata": {},
   "source": [
    "**5.1 Trend of COVID-19 spread over time**"
   ]
  },
  {
   "cell_type": "code",
   "execution_count": null,
   "id": "a364fd15",
   "metadata": {},
   "outputs": [],
   "source": [
    "# Group by date and sum confirmed cases\n",
    "total_cases = df.groupby(\"date\")['confirmed'].sum().reset_index()\n",
    "\n",
    "# Create a trace for the trend of confirmed cases\n",
    "trace = go.Scatter(x=total_cases['date'], y=total_cases['confirmed'], mode='lines', marker=dict(color='red'))\n",
    "\n",
    "# Create layout\n",
    "layout = go.Layout(title='Worldwide Confirmed Cases Over Time',\n",
    "                   xaxis=dict(title='Dates', tickangle=90, tickfont=dict(size=10)),\n",
    "                   yaxis=dict(title='Total cases', tickfont=dict(size=15)),\n",
    "                   width=950, height=500)\n",
    "\n",
    "# Create figure\n",
    "fig = go.Figure(data=[trace], layout=layout)\n",
    "\n",
    "# Show plot\n",
    "fig.show()"
   ]
  },
  {
   "cell_type": "markdown",
   "id": "e305f707",
   "metadata": {},
   "source": [
    "* In the beginning, you can see that the number of cases is very low. However, gradually, and then suddenly, the number of COVID cases grows from March 17, 2020, to July 27, 2020"
   ]
  },
  {
   "cell_type": "code",
   "execution_count": null,
   "id": "ef375cdf",
   "metadata": {},
   "outputs": [],
   "source": [
    "total_cases"
   ]
  },
  {
   "cell_type": "markdown",
   "id": "08cb21ed",
   "metadata": {},
   "source": [
    "* On January 22, 2020, the number of confirmed cases worldwide was 555.            \n",
    "* On January 23, 2020, the number of confirmed cases worldwide was 654.         \n",
    "* On July 27, 2020, the number of confirmed cases worldwide was 16,480,485.          \n",
    "\n",
    "These data points indicate the progression of confirmed COVID-19 cases globally over time, highlighting the significant increase in cases from January to July 2020."
   ]
  },
  {
   "cell_type": "markdown",
   "id": "3f3b494d",
   "metadata": {},
   "source": [
    "**5.2 Top 20 countries having most death cases**"
   ]
  },
  {
   "cell_type": "code",
   "execution_count": null,
   "id": "8afc6815",
   "metadata": {},
   "outputs": [],
   "source": [
    "top_deaths =df.groupby(by=\"country\")[\"deaths\"].sum().sort_values(ascending=False).head(20).reset_index()\n",
    "top_deaths"
   ]
  },
  {
   "cell_type": "code",
   "execution_count": null,
   "id": "3d2708d5",
   "metadata": {
    "scrolled": false
   },
   "outputs": [],
   "source": [
    "# Sort the data by deaths\n",
    "top_deaths = top_deaths.sort_values(by='deaths', ascending=True)\n",
    "\n",
    "# Create a horizontal bar plot\n",
    "fig = go.Figure(go.Bar(\n",
    "    x=top_deaths['deaths'],\n",
    "    y=top_deaths['country'],\n",
    "    orientation='h',  # horizontal bars\n",
    "    marker=dict(color='red')  # bar color\n",
    "))\n",
    "\n",
    "# Customize layout\n",
    "fig.update_layout(\n",
    "    title='Top 20 Countries with Most Death Cases',\n",
    "    xaxis=dict(title='Total Cases', tickfont=dict(size=15)),\n",
    "    yaxis=dict(title='Country', tickfont=dict(size=15)),\n",
    "    width=950, height=550\n",
    ")\n",
    "\n",
    "# Show plot\n",
    "fig.show()\n"
   ]
  },
  {
   "cell_type": "markdown",
   "id": "d50c0f81",
   "metadata": {},
   "source": [
    "**5.3 Top 20 Countries with highest active cases**"
   ]
  },
  {
   "cell_type": "code",
   "execution_count": null,
   "id": "a37c03c3",
   "metadata": {},
   "outputs": [],
   "source": [
    "top_actives =df.groupby(by=\"country\")[\"active\"].sum().sort_values(ascending=False).head(20).reset_index()\n",
    "top_actives"
   ]
  },
  {
   "cell_type": "code",
   "execution_count": null,
   "id": "8c8ba63b",
   "metadata": {},
   "outputs": [],
   "source": [
    "# Sort the data by active cases \n",
    "top_actives = top_actives.sort_values(by='active', ascending=True)\n",
    "\n",
    "# Create a horizontal bar plot\n",
    "fig = go.Figure(go.Bar(\n",
    "    x=top_actives['active'],\n",
    "    y=top_actives['country'],\n",
    "    orientation='h',  # horizontal bars\n",
    "    marker=dict(color='blue')  # bar color\n",
    "))\n",
    "\n",
    "# Customize layout\n",
    "fig.update_layout(\n",
    "    title='Top 20 Countries with Most Active Cases',\n",
    "    xaxis=dict(title='Total Cases', tickfont=dict(size=15)),\n",
    "    yaxis=dict(title='Country', tickfont=dict(size=15)),\n",
    "    width=950, height=550\n",
    ")\n",
    "\n",
    "# Show plot\n",
    "fig.show()"
   ]
  },
  {
   "cell_type": "markdown",
   "id": "c64da42f",
   "metadata": {},
   "source": [
    "**5.4 Top 20 Countries with highest confirmed cases**"
   ]
  },
  {
   "cell_type": "code",
   "execution_count": null,
   "id": "7dc2e415",
   "metadata": {},
   "outputs": [],
   "source": [
    "top_confirmed =df.groupby(by=\"country\")[\"confirmed\"].sum().sort_values(ascending=False).head(20).reset_index()\n",
    "top_confirmed"
   ]
  },
  {
   "cell_type": "code",
   "execution_count": null,
   "id": "bda2a2c6",
   "metadata": {},
   "outputs": [],
   "source": [
    "# Sort the data by confirmed cases \n",
    "top_confirmed = top_confirmed.sort_values(by='confirmed', ascending=True)\n",
    "\n",
    "# Create a horizontal bar plot\n",
    "fig = go.Figure(go.Bar(\n",
    "    x=top_confirmed['confirmed'],\n",
    "    y=top_confirmed['country'],\n",
    "    orientation='h',  # horizontal bars\n",
    "    marker=dict(color='green')  # bar color\n",
    "))\n",
    "\n",
    "# Customize layout\n",
    "fig.update_layout(\n",
    "    title='Top 20 Countries with Most Confirmed Cases',\n",
    "    xaxis=dict(title='Total Cases', tickfont=dict(size=15)),\n",
    "    yaxis=dict(title='Country', tickfont=dict(size=15)),\n",
    "    width=950, height=550\n",
    ")\n",
    "\n",
    "# Show plot\n",
    "fig.show()"
   ]
  },
  {
   "cell_type": "markdown",
   "id": "0c465efc",
   "metadata": {},
   "source": [
    "**5.5 Day-wise recovered, deaths, confirmed, and active cases for the 'top 5 countries with the most active cases'**\n",
    "* The top 5 countries with the highest active cases are: US, Brazil, UK, Russia, and India."
   ]
  },
  {
   "cell_type": "markdown",
   "id": "195804b2",
   "metadata": {},
   "source": [
    "**5.5.1 For US**"
   ]
  },
  {
   "cell_type": "code",
   "execution_count": null,
   "id": "61b15d11",
   "metadata": {},
   "outputs": [],
   "source": [
    "US = df[df.country==\"US\"]\n",
    "US = US.groupby(by=\"date\")[[\"recovered\",\"deaths\",\"confirmed\",\"active\"]].sum().reset_index()"
   ]
  },
  {
   "cell_type": "code",
   "execution_count": null,
   "id": "1c4a5903",
   "metadata": {},
   "outputs": [],
   "source": [
    "US"
   ]
  },
  {
   "cell_type": "markdown",
   "id": "048fffc6",
   "metadata": {},
   "source": [
    "**5.5.2 For Brazil**"
   ]
  },
  {
   "cell_type": "code",
   "execution_count": null,
   "id": "9e315d8e",
   "metadata": {},
   "outputs": [],
   "source": [
    "Brazil = df[df.country==\"Brazil\"]\n",
    "Brazil = Brazil.groupby(by=\"date\")[[\"recovered\",\"deaths\",\"confirmed\",\"active\"]].sum().reset_index()"
   ]
  },
  {
   "cell_type": "code",
   "execution_count": null,
   "id": "91f74899",
   "metadata": {},
   "outputs": [],
   "source": [
    "Brazil"
   ]
  },
  {
   "cell_type": "markdown",
   "id": "f90e9f9b",
   "metadata": {},
   "source": [
    "**5.5.3 For UK**"
   ]
  },
  {
   "cell_type": "code",
   "execution_count": null,
   "id": "a27edeac",
   "metadata": {},
   "outputs": [],
   "source": [
    "UK = df[df.country ==\"United Kingdom\"]\n",
    "UK = UK.groupby(by = \"date\")[[\"recovered\", \"deaths\", \"confirmed\", \"active\"]].sum().reset_index()"
   ]
  },
  {
   "cell_type": "code",
   "execution_count": null,
   "id": "ddd62150",
   "metadata": {},
   "outputs": [],
   "source": [
    "UK"
   ]
  },
  {
   "cell_type": "markdown",
   "id": "bf7d6716",
   "metadata": {},
   "source": [
    "**5.5.4 For Russia**"
   ]
  },
  {
   "cell_type": "code",
   "execution_count": null,
   "id": "9e35cbe0",
   "metadata": {},
   "outputs": [],
   "source": [
    "Russia = df[df.country == \"Russia\"]\n",
    "Russia = Russia.groupby(by = \"date\")[[\"recovered\", \"deaths\", \"confirmed\", \"active\"]].sum().reset_index()"
   ]
  },
  {
   "cell_type": "code",
   "execution_count": null,
   "id": "f7c26b75",
   "metadata": {},
   "outputs": [],
   "source": [
    "Russia"
   ]
  },
  {
   "cell_type": "markdown",
   "id": "92ce8f6f",
   "metadata": {},
   "source": [
    "**5.5.5 For India**"
   ]
  },
  {
   "cell_type": "code",
   "execution_count": null,
   "id": "9321cfec",
   "metadata": {},
   "outputs": [],
   "source": [
    "India = df[df.country ==\"India\"]\n",
    "India = India.groupby(by = \"date\")[[\"recovered\", \"deaths\", \"confirmed\", \"active\"]].sum().reset_index()"
   ]
  },
  {
   "cell_type": "code",
   "execution_count": null,
   "id": "c7909af1",
   "metadata": {},
   "outputs": [],
   "source": [
    "India"
   ]
  },
  {
   "cell_type": "markdown",
   "id": "fadc8069",
   "metadata": {},
   "source": [
    "**5.6 Top 5 Countries: COVID-19 Confirmed Cases Over Time**"
   ]
  },
  {
   "cell_type": "code",
   "execution_count": null,
   "id": "8763281e",
   "metadata": {},
   "outputs": [],
   "source": [
    "# Add figsize as width and height\n",
    "figsize = (2, 2)\n",
    "\n",
    "# Create traces for each country\n",
    "trace_us = go.Scatter(x=US.index, y=US['confirmed'], mode='lines', name='US', line=dict(color='pink'))\n",
    "trace_brazil = go.Scatter(x=Brazil.index, y=Brazil['confirmed'], mode='lines', name='Brazil', line=dict(color='blue'))\n",
    "trace_uk = go.Scatter(x=UK.index, y=UK['confirmed'], mode='lines', name='UK', line=dict(color='yellow'))\n",
    "trace_russia = go.Scatter(x=Russia.index, y=Russia['confirmed'], mode='lines', name='Russia', line=dict(color='green'))\n",
    "trace_india = go.Scatter(x=India.index, y=India['confirmed'], mode='lines', name='India', line=dict(color='red'))\n",
    "\n",
    "# Combine traces into data list\n",
    "data = [trace_us, trace_brazil, trace_uk, trace_russia, trace_india]\n",
    "\n",
    "# Define layout\n",
    "layout = go.Layout(\n",
    "    title='Top 5 Countries: COVID-19 Confirmed Cases Over Time',\n",
    "    xaxis=dict(title='No. of days', tickfont=dict(size=20)),\n",
    "    yaxis=dict(title='Confirmed cases', tickfont=dict(size=20)),\n",
    "    width=950, height=500\n",
    ")\n",
    "\n",
    "# Create figure\n",
    "fig = go.Figure(data=data, layout=layout)\n",
    "\n",
    "# Show plot\n",
    "fig.show()"
   ]
  },
  {
   "cell_type": "markdown",
   "id": "0fdd54d6",
   "metadata": {},
   "source": [
    "* The United States has the highest number of confirmed cases, followed by Brazil, India, Russia, the United Kingdom, and so forth."
   ]
  },
  {
   "cell_type": "markdown",
   "id": "5550402a",
   "metadata": {},
   "source": [
    "**5.7 Top 5 Countries: COVID-19 Death Cases Over Time**"
   ]
  },
  {
   "cell_type": "code",
   "execution_count": null,
   "id": "ce725247",
   "metadata": {},
   "outputs": [],
   "source": [
    "# Create traces for each country\n",
    "trace_us = go.Scatter(x=US.index, y=US['deaths'], mode='lines', name='US', line=dict(color='pink'))\n",
    "trace_brazil = go.Scatter(x=Brazil.index, y=Brazil['deaths'], mode='lines', name='Brazil', line=dict(color='blue'))\n",
    "trace_uk = go.Scatter(x=UK.index, y=UK['deaths'], mode='lines', name='UK', line=dict(color='yellow'))\n",
    "trace_russia = go.Scatter(x=Russia.index, y=Russia['deaths'], mode='lines', name='Russia', line=dict(color='green'))\n",
    "trace_india = go.Scatter(x=India.index, y=India['deaths'], mode='lines', name='India', line=dict(color='red'))\n",
    "\n",
    "# Combine traces into data list\n",
    "data = [trace_us, trace_brazil, trace_uk, trace_russia, trace_india]\n",
    "\n",
    "# Define layout\n",
    "layout = go.Layout(\n",
    "    title='Top 5 Countries: COVID-19 Death Cases Over Time',\n",
    "    xaxis=dict(title='No. of days', tickfont=dict(size=20)),\n",
    "    yaxis=dict(title='Death cases', tickfont=dict(size=20)),\n",
    "    width=950, height=500\n",
    ")\n",
    "\n",
    "# Create figure\n",
    "fig = go.Figure(data=data, layout=layout)\n",
    "\n",
    "# Show plot\n",
    "fig.show()"
   ]
  },
  {
   "cell_type": "markdown",
   "id": "33580c05",
   "metadata": {},
   "source": [
    "* The United States has the highest number of death cases, followed by Brazil, UK, India, the Russia, and so forth."
   ]
  },
  {
   "cell_type": "markdown",
   "id": "e4a42d6f",
   "metadata": {},
   "source": [
    "**5.8 Top 5 Countries: COVID-19 Recovered Cases Over Time**"
   ]
  },
  {
   "cell_type": "code",
   "execution_count": null,
   "id": "55f8ef03",
   "metadata": {},
   "outputs": [],
   "source": [
    "# Create traces for each country\n",
    "trace_us = go.Scatter(x=US.index, y=US['recovered'], mode='lines', name='US', line=dict(color='pink'))\n",
    "trace_brazil = go.Scatter(x=Brazil.index, y=Brazil['recovered'], mode='lines', name='Brazil', line=dict(color='blue'))\n",
    "trace_uk = go.Scatter(x=UK.index, y=UK['recovered'], mode='lines', name='UK', line=dict(color='yellow'))\n",
    "trace_russia = go.Scatter(x=Russia.index, y=Russia['recovered'], mode='lines', name='Russia', line=dict(color='green'))\n",
    "trace_india = go.Scatter(x=India.index, y=India['recovered'], mode='lines', name='India', line=dict(color='red'))\n",
    "\n",
    "# Combine traces into data list\n",
    "data = [trace_us, trace_brazil, trace_uk, trace_russia, trace_india]\n",
    "\n",
    "# Define layout\n",
    "layout = go.Layout(\n",
    "    title='Top 5 Countries: COVID-19 Recovered Cases Over Time',\n",
    "    xaxis=dict(title='No. of days', tickfont=dict(size=20)),\n",
    "    yaxis=dict(title='Recovered cases', tickfont=dict(size=20)),\n",
    "    width=950, height=500\n",
    ")\n",
    "\n",
    "# Create figure\n",
    "fig = go.Figure(data=data, layout=layout)\n",
    "\n",
    "# Show plot\n",
    "fig.show()"
   ]
  },
  {
   "cell_type": "markdown",
   "id": "90f1ab88",
   "metadata": {},
   "source": [
    "* The Brazil has the highest number of recovered cases, followed by US, India, Russia, the United Kingdom, and so forth."
   ]
  },
  {
   "cell_type": "markdown",
   "id": "c9f7dc45",
   "metadata": {},
   "source": [
    "## Step 6: Time Series Modeling:"
   ]
  },
  {
   "cell_type": "markdown",
   "id": "ae6ffe34",
   "metadata": {},
   "source": [
    ">**FORECASTING USING FBPROPHET**\n",
    ">\n",
    ">* so previosly we have discussed ARIMA, SARIMA, SARIMAX so in order to build these models we have to make our data stationary first then only we can build these models\n",
    "><br>\n",
    ">\n",
    ">* `But if you using FBPROPHET then here is no need to make data stationary --> to do accurate time-series forecasting`\n",
    ">* FBPROPHET is open-sourced library by Facebook that is designed for creating accurate time-series forecasts.\n",
    ">* Whether it's daily observations, irregular intervals, or seasonality present in our data"
   ]
  },
  {
   "cell_type": "markdown",
   "id": "a49e3236",
   "metadata": {},
   "source": [
    "**6.1 Installing FBPROPHET**"
   ]
  },
  {
   "cell_type": "code",
   "execution_count": null,
   "id": "dd68cc31",
   "metadata": {},
   "outputs": [],
   "source": [
    "!pip install prophet"
   ]
  },
  {
   "cell_type": "markdown",
   "id": "c989ed18",
   "metadata": {},
   "source": [
    "**6.2 Importing prophet class**"
   ]
  },
  {
   "cell_type": "code",
   "execution_count": null,
   "id": "5a75d4f0",
   "metadata": {},
   "outputs": [],
   "source": [
    "from prophet import Prophet"
   ]
  },
  {
   "cell_type": "markdown",
   "id": "f57f8427",
   "metadata": {},
   "source": [
    "**6.3 Data Preprocessing for FBPROPHET**"
   ]
  },
  {
   "cell_type": "code",
   "execution_count": null,
   "id": "c29bdeda",
   "metadata": {},
   "outputs": [],
   "source": [
    "df.head()"
   ]
  },
  {
   "cell_type": "code",
   "execution_count": null,
   "id": "1786247e",
   "metadata": {},
   "outputs": [],
   "source": [
    "# Checking information about data\n",
    "df.info()"
   ]
  },
  {
   "cell_type": "code",
   "execution_count": null,
   "id": "89e972a3",
   "metadata": {},
   "outputs": [],
   "source": [
    "# converting date column in standard date format\n",
    "df[\"date\"]=pd.to_datetime(df[\"date\"])"
   ]
  },
  {
   "cell_type": "code",
   "execution_count": null,
   "id": "75a1c0e3",
   "metadata": {},
   "outputs": [],
   "source": [
    "df.head()"
   ]
  },
  {
   "cell_type": "code",
   "execution_count": null,
   "id": "2b243b10",
   "metadata": {},
   "outputs": [],
   "source": [
    "df.info()"
   ]
  },
  {
   "cell_type": "markdown",
   "id": "7954342d",
   "metadata": {},
   "source": [
    "**Note for FBProphet:**\n",
    "\n",
    "`In FBProphet, the input DataFrame should contain only two columns:`\n",
    "* ds (Date): This column represents the independent variable, typically denoting the time or date.\n",
    "* y: This column represents the dependent variable, which is the quantity you want to forecast, such as the number of confirmed cases, deaths, or recoveries."
   ]
  },
  {
   "cell_type": "markdown",
   "id": "cb7b0ba1",
   "metadata": {},
   "source": [
    "**6.4 Here we are creating a separate DataFrame for confirmed case which have only 2 column**"
   ]
  },
  {
   "cell_type": "code",
   "execution_count": null,
   "id": "9e8fbb52",
   "metadata": {},
   "outputs": [],
   "source": [
    "confirmed=df.groupby(\"date\").sum()[\"confirmed\"].reset_index()\n",
    "confirmed"
   ]
  },
  {
   "cell_type": "markdown",
   "id": "c85c2cdf",
   "metadata": {},
   "source": [
    "**6.5 Here we are creating a separate DataFrame for \"death\" cases which have only 2 column**"
   ]
  },
  {
   "cell_type": "code",
   "execution_count": null,
   "id": "eb9d40ea",
   "metadata": {},
   "outputs": [],
   "source": [
    "deaths=df.groupby(\"date\").sum()[\"deaths\"].reset_index()\n",
    "deaths"
   ]
  },
  {
   "cell_type": "markdown",
   "id": "57363ca6",
   "metadata": {},
   "source": [
    "**6.6 Here we are creating a separate DataFrame for \"recovered\" cases which have only 2 column**"
   ]
  },
  {
   "cell_type": "code",
   "execution_count": null,
   "id": "f102511d",
   "metadata": {},
   "outputs": [],
   "source": [
    "recovered=df.groupby(\"date\").sum()[\"recovered\"].reset_index()\n",
    "recovered"
   ]
  },
  {
   "cell_type": "markdown",
   "id": "a142d9ba",
   "metadata": {},
   "source": [
    "**6.7 Here we are creating a separate DataFrame for \"active\" cases which have only 2 column**"
   ]
  },
  {
   "cell_type": "code",
   "execution_count": null,
   "id": "8ce9ac6f",
   "metadata": {},
   "outputs": [],
   "source": [
    "active=df.groupby(\"date\").sum()[\"active\"].reset_index()\n",
    "active"
   ]
  },
  {
   "cell_type": "markdown",
   "id": "e1f867f7",
   "metadata": {},
   "source": [
    "## Step 7: Prediction and Visualization:"
   ]
  },
  {
   "cell_type": "markdown",
   "id": "fe3994d2",
   "metadata": {},
   "source": [
    "**7.1 Forecasting for the confirmed cases** "
   ]
  },
  {
   "cell_type": "code",
   "execution_count": null,
   "id": "ec3399fd",
   "metadata": {},
   "outputs": [],
   "source": [
    "confirmed.rename(columns={\"date\":\"ds\",\"confirmed\":\"y\"},inplace=True)"
   ]
  },
  {
   "cell_type": "code",
   "execution_count": null,
   "id": "c70d9dac",
   "metadata": {},
   "outputs": [],
   "source": [
    "confirmed"
   ]
  },
  {
   "cell_type": "markdown",
   "id": "ed983418",
   "metadata": {},
   "source": [
    "**7.1.1 Defining the Confidence Interval in Prophet's Forecasting**\n",
    "* interval_width is nothing but confidence interval means we have confidence of 95% that prediction is correct and 5% i am taking as error margin"
   ]
  },
  {
   "cell_type": "code",
   "execution_count": null,
   "id": "89ff2726",
   "metadata": {},
   "outputs": [],
   "source": [
    "con_model=Prophet(interval_width=0.95)  "
   ]
  },
  {
   "cell_type": "markdown",
   "id": "3c6ccc0c",
   "metadata": {},
   "source": [
    "**7.1.2 Model Training: Fitting Data to the Model**"
   ]
  },
  {
   "cell_type": "code",
   "execution_count": null,
   "id": "188a8a54",
   "metadata": {},
   "outputs": [],
   "source": [
    "con_model.fit(confirmed)"
   ]
  },
  {
   "cell_type": "markdown",
   "id": "54f37679",
   "metadata": {},
   "source": [
    "**7.1.3 Forecasting confirmed case for over 7 days**\n",
    "* periods = 7 means, we are forecasting confirmed case for over 7 days\n",
    "* above you see we have 188 rows --> afterrunning this code 7 more days added now row will become = 188+7 = 195"
   ]
  },
  {
   "cell_type": "code",
   "execution_count": null,
   "id": "1f93eb75",
   "metadata": {},
   "outputs": [],
   "source": [
    "future=con_model.make_future_dataframe(periods=7)"
   ]
  },
  {
   "cell_type": "code",
   "execution_count": null,
   "id": "b9979a92",
   "metadata": {},
   "outputs": [],
   "source": [
    "future"
   ]
  },
  {
   "cell_type": "code",
   "execution_count": null,
   "id": "822d4d4d",
   "metadata": {},
   "outputs": [],
   "source": [
    "forecast=con_model.predict(future)\n",
    "forecast[[\"ds\",\"yhat\",\"yhat_lower\",\"yhat_upper\"]].tail(7)"
   ]
  },
  {
   "cell_type": "markdown",
   "id": "bae84953",
   "metadata": {},
   "source": [
    "**7.1.4 Visualization of Confirmed Cases Historical + Forecast of 7 days**"
   ]
  },
  {
   "cell_type": "code",
   "execution_count": null,
   "id": "7fd046d5",
   "metadata": {
    "scrolled": false
   },
   "outputs": [],
   "source": [
    "confirmed_plot=con_model.plot(forecast)\n",
    "plt.legend()\n",
    "plt.title(\"Visualization of Confirmed Cases Historical + prediction + Forecast of 7 days\")\n",
    "plt.show()"
   ]
  },
  {
   "cell_type": "markdown",
   "id": "0b09d733",
   "metadata": {},
   "source": [
    "* In this graph, if you observe, the black dots represent the actual data.\n",
    "* The blue line represents the \"prediction\" or \"y-hat\".\n",
    "* At the end of the black dots, if you notice the blue line further extending, it signifies the \"prediction of future 7 days confirmed cases\".\n",
    "* Now, observing the blue line closely, you'll discern a blurry shadow around it, denoting the \"5% margin of error\" or deviation region.\n",
    "* This implies that our prediction can vary up to the upper blurry point, i.e., the maximum value represented by yhat_uppermargin, and down to the lower blurry point, i.e., the minimum value represented by yhat_lowermargin."
   ]
  },
  {
   "cell_type": "code",
   "execution_count": null,
   "id": "d7ea4a2c",
   "metadata": {},
   "outputs": [],
   "source": [
    "confirmed_forecast_plot1 = con_model.plot_components(forecast)\n",
    "plt.show()"
   ]
  },
  {
   "cell_type": "markdown",
   "id": "0a7a70c4",
   "metadata": {},
   "source": [
    "* Trend: This represents the trend in our data.\n",
    "* Weekly: This indicates the future 7-day predictions provided by our model.\n",
    "    * On Sunday, cases are projected to be 7000, followed by a sudden decrease on Monday, and a further decrease on Tuesday.\n",
    "    * Subsequently, after Tuesday, there is an increase in confirmed cases."
   ]
  },
  {
   "cell_type": "markdown",
   "id": "096fd950",
   "metadata": {},
   "source": [
    "**7.2 Forecasting for death cases:**"
   ]
  },
  {
   "cell_type": "code",
   "execution_count": null,
   "id": "11700860",
   "metadata": {},
   "outputs": [],
   "source": [
    "deaths"
   ]
  },
  {
   "cell_type": "code",
   "execution_count": null,
   "id": "e42f713f",
   "metadata": {},
   "outputs": [],
   "source": [
    "deaths.rename(columns={\"date\":\"ds\",\"deaths\":\"y\"},inplace=True)"
   ]
  },
  {
   "cell_type": "code",
   "execution_count": null,
   "id": "e724c524",
   "metadata": {},
   "outputs": [],
   "source": [
    "deaths"
   ]
  },
  {
   "cell_type": "code",
   "execution_count": null,
   "id": "1253a5be",
   "metadata": {},
   "outputs": [],
   "source": [
    "death_model=Prophet(interval_width=0.95)"
   ]
  },
  {
   "cell_type": "code",
   "execution_count": null,
   "id": "c4b24553",
   "metadata": {},
   "outputs": [],
   "source": [
    "# Model training\n",
    "death_model.fit(deaths)"
   ]
  },
  {
   "cell_type": "code",
   "execution_count": null,
   "id": "9e18ed11",
   "metadata": {},
   "outputs": [],
   "source": [
    "future=death_model.make_future_dataframe(periods=7)"
   ]
  },
  {
   "cell_type": "code",
   "execution_count": null,
   "id": "0d8fa362",
   "metadata": {},
   "outputs": [],
   "source": [
    "forecast=death_model.predict(future)\n",
    "forecast[[\"ds\",\"yhat\",\"yhat_lower\",\"yhat_upper\"]].tail(7)"
   ]
  },
  {
   "cell_type": "code",
   "execution_count": null,
   "id": "805c522f",
   "metadata": {},
   "outputs": [],
   "source": [
    "death_plot=death_model.plot(forecast)\n",
    "plt.legend()\n",
    "plt.title(\"Visualization of Death Cases Historical + prediction + Forecast of 7 days\")\n",
    "plt.show()"
   ]
  },
  {
   "cell_type": "code",
   "execution_count": null,
   "id": "8f3e44f8",
   "metadata": {},
   "outputs": [],
   "source": [
    "death_forecast_plot1 = death_model.plot_components(forecast)"
   ]
  },
  {
   "cell_type": "markdown",
   "id": "a07fbd4d",
   "metadata": {},
   "source": [
    "From the plot we can say that On Sunday, the number of deaths decreases Then, from Monday to Friday, deaths increase up to around 800, and from Friday to Saturday, there's a slight decrease back to around 750."
   ]
  },
  {
   "cell_type": "markdown",
   "id": "033c7ce5",
   "metadata": {},
   "source": [
    "**7.3 Forecasting for recovered cases:** "
   ]
  },
  {
   "cell_type": "code",
   "execution_count": null,
   "id": "155ecc16",
   "metadata": {},
   "outputs": [],
   "source": [
    "recovered"
   ]
  },
  {
   "cell_type": "code",
   "execution_count": null,
   "id": "3d11a369",
   "metadata": {},
   "outputs": [],
   "source": [
    "recovered.rename(columns={\"date\":\"ds\",\"recovered\":\"y\"},inplace=True)"
   ]
  },
  {
   "cell_type": "code",
   "execution_count": null,
   "id": "eddb4030",
   "metadata": {},
   "outputs": [],
   "source": [
    "recovered"
   ]
  },
  {
   "cell_type": "code",
   "execution_count": null,
   "id": "99b852ff",
   "metadata": {},
   "outputs": [],
   "source": [
    "recovered_model=Prophet(interval_width=0.95)"
   ]
  },
  {
   "cell_type": "code",
   "execution_count": null,
   "id": "e30dd7ac",
   "metadata": {},
   "outputs": [],
   "source": [
    "# Training of Model (fiting thr data to the model)\n",
    "recovered_model.fit(recovered)"
   ]
  },
  {
   "cell_type": "code",
   "execution_count": null,
   "id": "6d39ba40",
   "metadata": {},
   "outputs": [],
   "source": [
    "future=recovered_model.make_future_dataframe(periods=7)"
   ]
  },
  {
   "cell_type": "code",
   "execution_count": null,
   "id": "f61a0910",
   "metadata": {},
   "outputs": [],
   "source": [
    "forecast=recovered_model.predict(future)\n",
    "forecast[[\"ds\",\"yhat\",\"yhat_lower\",\"yhat_upper\"]].tail(7)"
   ]
  },
  {
   "cell_type": "code",
   "execution_count": null,
   "id": "67fb8431",
   "metadata": {},
   "outputs": [],
   "source": [
    "recovered_plot=recovered_model.plot(forecast)\n",
    "plt.legend()\n",
    "plt.title(\"Visualization of Recovered Cases Historical + prediction + Forecast of 7 days\")\n",
    "plt.show()"
   ]
  },
  {
   "cell_type": "code",
   "execution_count": null,
   "id": "d1af84a0",
   "metadata": {},
   "outputs": [],
   "source": [
    "recovered_forecast_plot1 = recovered_model.plot_components(forecast)"
   ]
  },
  {
   "cell_type": "markdown",
   "id": "078f5550",
   "metadata": {},
   "source": [
    "**7.4 Forecasting for active cases:**"
   ]
  },
  {
   "cell_type": "code",
   "execution_count": null,
   "id": "986cde1e",
   "metadata": {},
   "outputs": [],
   "source": [
    "active"
   ]
  },
  {
   "cell_type": "code",
   "execution_count": null,
   "id": "0b16e651",
   "metadata": {},
   "outputs": [],
   "source": [
    "active.rename(columns={\"date\":\"ds\",\"active\":\"y\"},inplace=True)"
   ]
  },
  {
   "cell_type": "code",
   "execution_count": null,
   "id": "9e874bc8",
   "metadata": {},
   "outputs": [],
   "source": [
    "active"
   ]
  },
  {
   "cell_type": "code",
   "execution_count": null,
   "id": "5c257a9a",
   "metadata": {},
   "outputs": [],
   "source": [
    "active_model=Prophet(interval_width=0.95)"
   ]
  },
  {
   "cell_type": "code",
   "execution_count": null,
   "id": "14a1f5e9",
   "metadata": {},
   "outputs": [],
   "source": [
    "# Training of Model (fiting thr data to the model)\n",
    "active_model.fit(active)"
   ]
  },
  {
   "cell_type": "code",
   "execution_count": null,
   "id": "3b4b584f",
   "metadata": {},
   "outputs": [],
   "source": [
    "future=active_model.make_future_dataframe(periods=7)"
   ]
  },
  {
   "cell_type": "code",
   "execution_count": null,
   "id": "1b2b33b5",
   "metadata": {},
   "outputs": [],
   "source": [
    "forecast=active_model.predict(future)\n",
    "forecast[[\"ds\",\"yhat\",\"yhat_lower\",\"yhat_upper\"]].tail(7)"
   ]
  },
  {
   "cell_type": "code",
   "execution_count": null,
   "id": "96a974c4",
   "metadata": {},
   "outputs": [],
   "source": [
    "active_plot=active_model.plot(forecast)\n",
    "plt.legend()\n",
    "plt.title(\"Visualization of Active Cases Historical + prediction + Forecast of 7 days\")\n",
    "plt.show()"
   ]
  },
  {
   "cell_type": "code",
   "execution_count": null,
   "id": "de92033a",
   "metadata": {},
   "outputs": [],
   "source": [
    "active_forecast_plot1 = active_model.plot_components(forecast)"
   ]
  },
  {
   "cell_type": "markdown",
   "id": "de6eb44d",
   "metadata": {},
   "source": [
    "## Step 8: Model Saving and Loading"
   ]
  },
  {
   "cell_type": "markdown",
   "id": "55a9c793",
   "metadata": {},
   "source": [
    "### 8.1: Import necessary libraries"
   ]
  },
  {
   "cell_type": "code",
   "execution_count": null,
   "id": "1a3d269b",
   "metadata": {},
   "outputs": [],
   "source": [
    "!pip install joblib\n",
    "import joblib\n",
    "from prophet import Prophet"
   ]
  },
  {
   "cell_type": "markdown",
   "id": "22dfff81",
   "metadata": {},
   "source": [
    "### 8.2: Saving trained models"
   ]
  },
  {
   "cell_type": "code",
   "execution_count": null,
   "id": "a8d87cad",
   "metadata": {},
   "outputs": [],
   "source": [
    "# Save the trained confirmed model\n",
    "joblib.dump(con_model, 'model/prophet_model_confirmed.joblib')\n",
    "\n",
    "# Save the trained death model\n",
    "joblib.dump(death_model, 'model/prophet_model_death.joblib')\n",
    "\n",
    "# Save the trained recovered model\n",
    "joblib.dump(recovered_model, 'model/prophet_model_recovered.joblib')\n",
    "\n",
    "# Save the trained active model\n",
    "joblib.dump(active_model, 'model/prophet_model_active.joblib')\n",
    "\n",
    "print(\"Models saved successfully!\")"
   ]
  },
  {
   "cell_type": "markdown",
   "id": "87486cd7",
   "metadata": {},
   "source": [
    "### 8.3: Loading Models "
   ]
  },
  {
   "cell_type": "code",
   "execution_count": null,
   "id": "8d87cfa8",
   "metadata": {},
   "outputs": [],
   "source": [
    "# Import necessary libraries\n",
    "import joblib\n",
    "from prophet import Prophet\n",
    "\n",
    "# Load the trained confirmed model\n",
    "loaded_con_model = joblib.load('model/prophet_model_confirmed.joblib')\n",
    "\n",
    "# Load the trained death model\n",
    "loaded_death_model = joblib.load('model/prophet_model_death.joblib')\n",
    "\n",
    "# Load the trained recovered model\n",
    "loaded_recovered_model = joblib.load('model/prophet_model_recovered.joblib')\n",
    "\n",
    "# Load the trained active model\n",
    "loaded_active_model = joblib.load('model/prophet_model_active.joblib')\n",
    "\n",
    "print(\"Model loaded successfully\")"
   ]
  },
  {
   "cell_type": "markdown",
   "id": "39328f6c",
   "metadata": {},
   "source": [
    "### 8.4: Making predictions"
   ]
  },
  {
   "cell_type": "code",
   "execution_count": null,
   "id": "ab1d2f4e",
   "metadata": {},
   "outputs": [],
   "source": [
    "# Future predictions using the loaded confirmed model\n",
    "future = loaded_con_model.make_future_dataframe(periods=7)\n",
    "forecast = loaded_con_model.predict(future)\n",
    "confirmed_plot = loaded_con_model.plot(forecast)\n",
    "confirmed_forecast_plot1 = loaded_con_model.plot_components(forecast)\n",
    "\n",
    "# Future predictions using the loaded death model\n",
    "future = loaded_death_model.make_future_dataframe(periods=7)\n",
    "forecast = loaded_death_model.predict(future)\n",
    "death_plot = loaded_death_model.plot(forecast)\n",
    "death_forecast_plot1 = loaded_death_model.plot_components(forecast)\n",
    "\n",
    "# Future predictions using the loaded recovered model\n",
    "future = loaded_recovered_model.make_future_dataframe(periods=7)\n",
    "forecast = loaded_recovered_model.predict(future)\n",
    "recovered_plot = loaded_recovered_model.plot(forecast)\n",
    "recovered_forecast_plot1 = loaded_recovered_model.plot_components(forecast)\n",
    "\n",
    "# Future predictions using the loaded active model\n",
    "future = loaded_active_model.make_future_dataframe(periods=7)\n",
    "forecast = loaded_active_model.predict(future)\n",
    "active_plot = loaded_active_model.plot(forecast)\n",
    "active_forecast_plot1 = loaded_active_model.plot_components(forecast)\n",
    "\n",
    "print(\"Future predictions generated successfully!\")"
   ]
  },
  {
   "cell_type": "markdown",
   "id": "89d948e7",
   "metadata": {},
   "source": [
    "## Step 9: Conclusion\n",
    "\n",
    "Throughout the analyzed period from January to April, the recorded COVID-19 cases showed a relatively stable trend without significant fluctuations. However, from April onwards, a notable shift occurred, marked by an exponential increase in confirmed cases, active infections, deaths, and recoveries.\n",
    "\n",
    "By examining the visualizations of confirmed cases, active infections, recoveries, and deaths, coupled with a 7-day forecast and historical data, we discern a consistent pattern with gradual changes over time. Yet, focusing specifically on the data from the last 7 days reveals more nuanced insights, showcasing sudden spikes and declines in case numbers.\n",
    "\n",
    "This analysis underscores the importance of closely monitoring recent trends for timely intervention and response. Understanding these fluctuations in the short term can aid in implementing targeted strategies to mitigate the spread of the virus and manage healthcare resources effectively.\n",
    "\n",
    "Moving forward, continued vigilance and adaptive measures are imperative to navigate the dynamic landscape of the COVID-19 pandemic and safeguard public health."
   ]
  }
 ],
 "metadata": {
  "kernelspec": {
   "display_name": "Python 3 (ipykernel)",
   "language": "python",
   "name": "python3"
  },
  "language_info": {
   "codemirror_mode": {
    "name": "ipython",
    "version": 3
   },
   "file_extension": ".py",
   "mimetype": "text/x-python",
   "name": "python",
   "nbconvert_exporter": "python",
   "pygments_lexer": "ipython3",
   "version": "3.11.5"
  }
 },
 "nbformat": 4,
 "nbformat_minor": 5
}
